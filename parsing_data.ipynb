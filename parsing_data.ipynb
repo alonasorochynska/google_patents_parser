{
 "cells": [
  {
   "cell_type": "markdown",
   "metadata": {},
   "source": [
    "## Parsing data from the file with scraped information"
   ]
  },
  {
   "cell_type": "code",
   "execution_count": 1,
   "metadata": {},
   "outputs": [],
   "source": [
    "import pandas as pd\n",
    "from bs4 import BeautifulSoup"
   ]
  },
  {
   "cell_type": "code",
   "execution_count": 2,
   "metadata": {},
   "outputs": [
    {
     "data": {
      "text/html": [
       "<div>\n",
       "<style scoped>\n",
       "    .dataframe tbody tr th:only-of-type {\n",
       "        vertical-align: middle;\n",
       "    }\n",
       "\n",
       "    .dataframe tbody tr th {\n",
       "        vertical-align: top;\n",
       "    }\n",
       "\n",
       "    .dataframe thead th {\n",
       "        text-align: right;\n",
       "    }\n",
       "</style>\n",
       "<table border=\"1\" class=\"dataframe\">\n",
       "  <thead>\n",
       "    <tr style=\"text-align: right;\">\n",
       "      <th></th>\n",
       "      <th>Unnamed: 0</th>\n",
       "      <th>inventor_name</th>\n",
       "      <th>assignee_name_orig</th>\n",
       "      <th>pub_date__</th>\n",
       "      <th>url</th>\n",
       "      <th>patent</th>\n",
       "      <th>title</th>\n",
       "      <th>abstract_text</th>\n",
       "      <th>patent_success</th>\n",
       "      <th>bs4</th>\n",
       "      <th>ds4</th>\n",
       "    </tr>\n",
       "  </thead>\n",
       "  <tbody>\n",
       "    <tr>\n",
       "      <th>0</th>\n",
       "      <td>0</td>\n",
       "      <td>Jules Jacob, Norman COYLE, Thomas G West, Dona...</td>\n",
       "      <td>Aprecia Pharmaceuticals Company</td>\n",
       "      <td>2014-09-18</td>\n",
       "      <td>https://patents.google.com/patent/WO2014144512A1</td>\n",
       "      <td>WO2014144512A1</td>\n",
       "      <td>Rapid disperse dosage form containing levetira...</td>\n",
       "      <td>A high dose rapidly dispersing three-dimension...</td>\n",
       "      <td>0</td>\n",
       "      <td>&lt;!DOCTYPE html&gt;\\n&lt;html lang=\"en\"&gt;\\n &lt;head&gt;\\n  ...</td>\n",
       "      <td>&lt;!DOCTYPE html&gt;\\n\\n&lt;html lang=\"en\"&gt;\\n&lt;head&gt;\\n&lt;...</td>\n",
       "    </tr>\n",
       "    <tr>\n",
       "      <th>1</th>\n",
       "      <td>1</td>\n",
       "      <td>Namdev M Kashid, Sunny Chopra, Sumit Madan, Vi...</td>\n",
       "      <td>Ranbaxy Laboratories Limited</td>\n",
       "      <td>2009-06-04</td>\n",
       "      <td>https://patents.google.com/patent/WO2009069089A9</td>\n",
       "      <td>WO2009069089A9</td>\n",
       "      <td>Levetiracetam controlled release composition</td>\n",
       "      <td>The present invention is concerned with contro...</td>\n",
       "      <td>?</td>\n",
       "      <td>&lt;!DOCTYPE html&gt;\\n&lt;html lang=\"en\"&gt;\\n &lt;head&gt;\\n  ...</td>\n",
       "      <td>&lt;!DOCTYPE html&gt;\\n\\n&lt;html lang=\"en\"&gt;\\n&lt;head&gt;\\n&lt;...</td>\n",
       "    </tr>\n",
       "  </tbody>\n",
       "</table>\n",
       "</div>"
      ],
      "text/plain": [
       "   Unnamed: 0                                      inventor_name  \\\n",
       "0           0  Jules Jacob, Norman COYLE, Thomas G West, Dona...   \n",
       "1           1  Namdev M Kashid, Sunny Chopra, Sumit Madan, Vi...   \n",
       "\n",
       "                assignee_name_orig  pub_date__  \\\n",
       "0  Aprecia Pharmaceuticals Company  2014-09-18   \n",
       "1     Ranbaxy Laboratories Limited  2009-06-04   \n",
       "\n",
       "                                                url          patent  \\\n",
       "0  https://patents.google.com/patent/WO2014144512A1  WO2014144512A1   \n",
       "1  https://patents.google.com/patent/WO2009069089A9  WO2009069089A9   \n",
       "\n",
       "                                               title  \\\n",
       "0  Rapid disperse dosage form containing levetira...   \n",
       "1       Levetiracetam controlled release composition   \n",
       "\n",
       "                                       abstract_text patent_success  \\\n",
       "0  A high dose rapidly dispersing three-dimension...              0   \n",
       "1  The present invention is concerned with contro...              ?   \n",
       "\n",
       "                                                 bs4  \\\n",
       "0  <!DOCTYPE html>\\n<html lang=\"en\">\\n <head>\\n  ...   \n",
       "1  <!DOCTYPE html>\\n<html lang=\"en\">\\n <head>\\n  ...   \n",
       "\n",
       "                                                 ds4  \n",
       "0  <!DOCTYPE html>\\n\\n<html lang=\"en\">\\n<head>\\n<...  \n",
       "1  <!DOCTYPE html>\\n\\n<html lang=\"en\">\\n<head>\\n<...  "
      ]
     },
     "execution_count": 2,
     "metadata": {},
     "output_type": "execute_result"
    }
   ],
   "source": [
    "data = pd.read_csv('data/lev_173_bs4.csv')\n",
    "data.head(2)"
   ]
  },
  {
   "cell_type": "code",
   "execution_count": 3,
   "metadata": {},
   "outputs": [
    {
     "data": {
      "text/plain": [
       "(167, 11)"
      ]
     },
     "execution_count": 3,
     "metadata": {},
     "output_type": "execute_result"
    }
   ],
   "source": [
    "data.shape"
   ]
  },
  {
   "cell_type": "code",
   "execution_count": 4,
   "metadata": {},
   "outputs": [],
   "source": [
    "data.drop(columns = [\"Unnamed: 0\"], inplace = True)\n",
    "data.drop(columns = [\"bs4\"], inplace = True)"
   ]
  },
  {
   "cell_type": "code",
   "execution_count": 5,
   "metadata": {},
   "outputs": [
    {
     "data": {
      "text/html": [
       "<div>\n",
       "<style scoped>\n",
       "    .dataframe tbody tr th:only-of-type {\n",
       "        vertical-align: middle;\n",
       "    }\n",
       "\n",
       "    .dataframe tbody tr th {\n",
       "        vertical-align: top;\n",
       "    }\n",
       "\n",
       "    .dataframe thead th {\n",
       "        text-align: right;\n",
       "    }\n",
       "</style>\n",
       "<table border=\"1\" class=\"dataframe\">\n",
       "  <thead>\n",
       "    <tr style=\"text-align: right;\">\n",
       "      <th></th>\n",
       "      <th>inventor_name</th>\n",
       "      <th>assignee_name_orig</th>\n",
       "      <th>pub_date__</th>\n",
       "      <th>url</th>\n",
       "      <th>patent</th>\n",
       "      <th>title</th>\n",
       "      <th>abstract_text</th>\n",
       "      <th>patent_success</th>\n",
       "      <th>bs4</th>\n",
       "    </tr>\n",
       "  </thead>\n",
       "  <tbody>\n",
       "    <tr>\n",
       "      <th>0</th>\n",
       "      <td>Jules Jacob, Norman COYLE, Thomas G West, Dona...</td>\n",
       "      <td>Aprecia Pharmaceuticals Company</td>\n",
       "      <td>2014-09-18</td>\n",
       "      <td>https://patents.google.com/patent/WO2014144512A1</td>\n",
       "      <td>WO2014144512A1</td>\n",
       "      <td>Rapid disperse dosage form containing levetira...</td>\n",
       "      <td>A high dose rapidly dispersing three-dimension...</td>\n",
       "      <td>0</td>\n",
       "      <td>&lt;!DOCTYPE html&gt;\\n\\n&lt;html lang=\"en\"&gt;\\n&lt;head&gt;\\n&lt;...</td>\n",
       "    </tr>\n",
       "  </tbody>\n",
       "</table>\n",
       "</div>"
      ],
      "text/plain": [
       "                                       inventor_name  \\\n",
       "0  Jules Jacob, Norman COYLE, Thomas G West, Dona...   \n",
       "\n",
       "                assignee_name_orig  pub_date__  \\\n",
       "0  Aprecia Pharmaceuticals Company  2014-09-18   \n",
       "\n",
       "                                                url          patent  \\\n",
       "0  https://patents.google.com/patent/WO2014144512A1  WO2014144512A1   \n",
       "\n",
       "                                               title  \\\n",
       "0  Rapid disperse dosage form containing levetira...   \n",
       "\n",
       "                                       abstract_text patent_success  \\\n",
       "0  A high dose rapidly dispersing three-dimension...              0   \n",
       "\n",
       "                                                 bs4  \n",
       "0  <!DOCTYPE html>\\n\\n<html lang=\"en\">\\n<head>\\n<...  "
      ]
     },
     "execution_count": 5,
     "metadata": {},
     "output_type": "execute_result"
    }
   ],
   "source": [
    "data.rename(columns = {\"ds4\":\"bs4\"}, inplace = True)\n",
    "data.head(1)"
   ]
  },
  {
   "cell_type": "code",
   "execution_count": 6,
   "metadata": {},
   "outputs": [],
   "source": [
    "data[\"bs4\"] = [BeautifulSoup(i) for i in data[\"bs4\"]]"
   ]
  },
  {
   "cell_type": "markdown",
   "metadata": {},
   "source": [
    "#### Inventor name"
   ]
  },
  {
   "cell_type": "code",
   "execution_count": 8,
   "metadata": {},
   "outputs": [],
   "source": [
    "soup1 = []\n",
    "for i in range(len(data[\"bs4\"])):\n",
    "    soup1.append(data[\"bs4\"][i].find_all('meta', scheme=\"inventor\"))"
   ]
  },
  {
   "cell_type": "code",
   "execution_count": 9,
   "metadata": {},
   "outputs": [
    {
     "data": {
      "text/plain": [
       "167"
      ]
     },
     "execution_count": 9,
     "metadata": {},
     "output_type": "execute_result"
    }
   ],
   "source": [
    "soup_inventor = [str(i) for i in soup1]\n",
    "soup_inventor = [\"null\" if i == '[]' else i for i in soup_inventor]\n",
    "soup_inventor = [i.replace('<meta content=\"', '') for i in soup_inventor]\n",
    "soup_inventor = [i.replace('\" name=\"DC.contributor\" scheme=\"inventor\"/>', '') for i in soup_inventor]\n",
    "soup_inventor = [i.replace('[', '') for i in soup_inventor]\n",
    "soup_inventor = [i.replace(']', '') for i in soup_inventor]\n",
    "len(soup_inventor)"
   ]
  },
  {
   "cell_type": "markdown",
   "metadata": {},
   "source": [
    "#### assignee_name_orig"
   ]
  },
  {
   "cell_type": "code",
   "execution_count": 10,
   "metadata": {},
   "outputs": [],
   "source": [
    "soup2 = []\n",
    "for i in range(len(data[\"bs4\"])):\n",
    "    soup2.append(data[\"bs4\"][i].find_all('meta', scheme=\"assignee\"))"
   ]
  },
  {
   "cell_type": "code",
   "execution_count": 11,
   "metadata": {},
   "outputs": [
    {
     "data": {
      "text/plain": [
       "167"
      ]
     },
     "execution_count": 11,
     "metadata": {},
     "output_type": "execute_result"
    }
   ],
   "source": [
    "assignee_name_orig = [str(i) for i in soup2]\n",
    "assignee_name_orig = [\"null\" if i == \"[]\" else i for i in assignee_name_orig]\n",
    "assignee_name_orig = [i.replace('name=\"DC.contributor\" scheme=\"assignee\"/>]', \"\") for i in assignee_name_orig]\n",
    "assignee_name_orig = [i.replace('\" name=\"DC.contributor\" scheme=\"assignee\"/>]', \"\") for i in assignee_name_orig]\n",
    "assignee_name_orig = [i.replace('[<meta content=\"', \"\") for i in assignee_name_orig]\n",
    "assignee_name_orig = [i.replace(\"\\'\", \"\") for i in assignee_name_orig]\n",
    "assignee_name_orig = [i.replace('\" name=\"DC.contributor\" scheme=\"assignee\"/>, <meta content=\"', \"\") for i in assignee_name_orig]\n",
    "assignee_name_orig = [i.replace('\" ', \"\") for i in assignee_name_orig]\n",
    "assignee_name_orig = [i.replace('[<meta content=', \"\") for i in assignee_name_orig]\n",
    "\n",
    "len(assignee_name_orig)"
   ]
  },
  {
   "cell_type": "markdown",
   "metadata": {},
   "source": [
    "#### assignee_name_current"
   ]
  },
  {
   "cell_type": "code",
   "execution_count": 12,
   "metadata": {},
   "outputs": [],
   "source": [
    "#soup3 = []\n",
    "#for i in range(len(data[\"bs4\"])):\n",
    "#    soup3.append(data[\"bs4\"][i].find_all('meta', scheme=\"assigneeCurrent\"))"
   ]
  },
  {
   "cell_type": "markdown",
   "metadata": {},
   "source": [
    "#### title"
   ]
  },
  {
   "cell_type": "code",
   "execution_count": 13,
   "metadata": {},
   "outputs": [],
   "source": [
    "soup4 = []\n",
    "for i in range(len(data[\"bs4\"])):\n",
    "    soup4.append(data[\"bs4\"][i].find_all('title'))"
   ]
  },
  {
   "cell_type": "code",
   "execution_count": 14,
   "metadata": {},
   "outputs": [
    {
     "data": {
      "text/plain": [
       "167"
      ]
     },
     "execution_count": 14,
     "metadata": {},
     "output_type": "execute_result"
    }
   ],
   "source": [
    "title_of_patent = [str(i) for i in soup4]\n",
    "title_ = []\n",
    "for i in range(len(title_of_patent)):\n",
    "    for j in range(len(title_of_patent[i])):\n",
    "        if title_of_patent[i][j] == \"-\":\n",
    "            title_.append(title_of_patent[i][j+2:-38])\n",
    "            break\n",
    "\n",
    "title = [\"null\" if i == \"\" else i for i in title_]        \n",
    "len(title)"
   ]
  },
  {
   "cell_type": "markdown",
   "metadata": {},
   "source": [
    "#### abstract_text"
   ]
  },
  {
   "cell_type": "code",
   "execution_count": 15,
   "metadata": {},
   "outputs": [],
   "source": [
    "soup5 = []\n",
    "for i in range(len(data[\"bs4\"])):\n",
    "    soup5.append(data[\"bs4\"][i].find('meta', attrs={'name':'DC.description'}))"
   ]
  },
  {
   "cell_type": "code",
   "execution_count": 16,
   "metadata": {},
   "outputs": [
    {
     "data": {
      "text/plain": [
       "167"
      ]
     },
     "execution_count": 16,
     "metadata": {},
     "output_type": "execute_result"
    }
   ],
   "source": [
    "abstract_text = [str(i) for i in soup5]\n",
    "abstract_text = [\"null\" if i == '<meta content=\"\" name=\"DC.description\"/>' else i for i in abstract_text] \n",
    "abstract_text = [i.replace('<meta content=\"\\n     ', \"\") for i in abstract_text]\n",
    "abstract_text = [i.replace(' \\n   \\n   \" name=\"DC.description\"/>', \"\") for i in abstract_text]\n",
    "abstract_text = [i.replace('<meta content=\\'\\n     ', \"\") for i in abstract_text]\n",
    "abstract_text = [i.replace(' name=\"DC.description\"/>', \"\") for i in abstract_text]\n",
    "abstract_text = [i.replace(\" \\n   \\n   \\'\", \"\") for i in abstract_text]\n",
    "abstract_text = [i.replace('<meta content=\"\\n   ', \"\") for i in abstract_text]\n",
    "len(abstract_text)"
   ]
  },
  {
   "cell_type": "markdown",
   "metadata": {},
   "source": [
    "#### meta_content_schema_assignee"
   ]
  },
  {
   "cell_type": "code",
   "execution_count": 17,
   "metadata": {},
   "outputs": [],
   "source": [
    "soup6 = []\n",
    "for i in range(len(data[\"bs4\"])):\n",
    "    soup6.append(data[\"bs4\"][i].find_all('meta', scheme=\"assignee\"))"
   ]
  },
  {
   "cell_type": "code",
   "execution_count": 18,
   "metadata": {},
   "outputs": [
    {
     "data": {
      "text/plain": [
       "167"
      ]
     },
     "execution_count": 18,
     "metadata": {},
     "output_type": "execute_result"
    }
   ],
   "source": [
    "meta_content_schema_assignee = [str(i) for i in soup6]\n",
    "meta_content_schema_assignee = [i.replace('[<meta content=\"', '') for i in meta_content_schema_assignee]\n",
    "meta_content_schema_assignee = [i.replace('\" name=\"DC.contributor\" scheme=\"assignee\"/>, <meta content=\"', ', ') for i in meta_content_schema_assignee]\n",
    "meta_content_schema_assignee = [i.replace(' name=\"DC.contributor\" scheme=\"assignee\"/>]', '') for i in meta_content_schema_assignee]\n",
    "meta_content_schema_assignee = [i.replace('[<meta content=', '') for i in meta_content_schema_assignee]\n",
    "meta_content_schema_assignee = [i[:-1] if i[-1] == '\"' else i for i in meta_content_schema_assignee]\n",
    "\n",
    "len(meta_content_schema_assignee)"
   ]
  },
  {
   "cell_type": "markdown",
   "metadata": {},
   "source": [
    "#### dd_itemprop_assigneeCurrent"
   ]
  },
  {
   "cell_type": "code",
   "execution_count": 19,
   "metadata": {},
   "outputs": [],
   "source": [
    "soup7 = []\n",
    "for i in range(len(data[\"bs4\"])):\n",
    "    soup7.append(data[\"bs4\"][i].find_all('dd', itemprop=\"assigneeCurrent\"))"
   ]
  },
  {
   "cell_type": "code",
   "execution_count": 20,
   "metadata": {},
   "outputs": [
    {
     "data": {
      "text/plain": [
       "167"
      ]
     },
     "execution_count": 20,
     "metadata": {},
     "output_type": "execute_result"
    }
   ],
   "source": [
    "dd_itemprop_assigneeCurrent = [str(i) for i in soup7]\n",
    "dd_itemprop_assigneeCurrent = [i.replace(\"  </dd>]\", \"\") for i in dd_itemprop_assigneeCurrent]\n",
    "dd_itemprop_assigneeCurrent = [i.replace(\"\\n\", \"\") for i in dd_itemprop_assigneeCurrent]\n",
    "dd_itemprop_assigneeCurrent = [i.replace('[<dd itemprop=\"assigneeCurrent\" repeat=\"\">    ', \"\") for i in dd_itemprop_assigneeCurrent]\n",
    "dd_itemprop_assigneeCurrent = [i.replace('  </dd>, <dd itemprop=\"assigneeCurrent\" repeat=\"\">    ', \", \") for i in dd_itemprop_assigneeCurrent]\n",
    "dd_itemprop_assigneeCurrent = [\"null\" if i == \"[]\" else i for i in dd_itemprop_assigneeCurrent]\n",
    "len(dd_itemprop_assigneeCurrent)"
   ]
  },
  {
   "cell_type": "markdown",
   "metadata": {},
   "source": [
    "#### dd_itempror_assigneeOriginal"
   ]
  },
  {
   "cell_type": "code",
   "execution_count": 21,
   "metadata": {},
   "outputs": [],
   "source": [
    "soup8 = []\n",
    "for i in range(len(data[\"bs4\"])):\n",
    "    soup8.append(data[\"bs4\"][i].find_all('dd', itemprop=\"assigneeOriginal\"))"
   ]
  },
  {
   "cell_type": "code",
   "execution_count": 22,
   "metadata": {},
   "outputs": [
    {
     "data": {
      "text/plain": [
       "167"
      ]
     },
     "execution_count": 22,
     "metadata": {},
     "output_type": "execute_result"
    }
   ],
   "source": [
    "dd_itemprop_assigneeOriginal = [str(i) for i in soup8]\n",
    "dd_itemprop_assigneeOriginal = [i.replace(\"\\n\", \"\") for i in dd_itemprop_assigneeOriginal]\n",
    "dd_itemprop_assigneeOriginal = [i.replace('[<dd itemprop=\"assigneeOriginal\" repeat=\"\">', \"\") for i in dd_itemprop_assigneeOriginal]\n",
    "dd_itemprop_assigneeOriginal = [i.replace('</dd>]', \"\") for i in dd_itemprop_assigneeOriginal]\n",
    "dd_itemprop_assigneeOriginal = [i.replace('</dd>, <dd itemprop=\"assigneeOriginal\" repeat=\"\">', \", \") for i in dd_itemprop_assigneeOriginal]\n",
    "dd_itemprop_assigneeOriginal = [\"null\" if i == \"[]\" else i for i in dd_itemprop_assigneeOriginal]\n",
    "len(dd_itemprop_assigneeOriginal)"
   ]
  },
  {
   "cell_type": "markdown",
   "metadata": {},
   "source": [
    "#### span_itemprop_title"
   ]
  },
  {
   "cell_type": "code",
   "execution_count": 23,
   "metadata": {},
   "outputs": [],
   "source": [
    "soup9 = []\n",
    "for i in range(len(data[\"bs4\"])):\n",
    "    soup9.append(data[\"bs4\"][i].find_all('span', itemprop=\"title\"))"
   ]
  },
  {
   "cell_type": "code",
   "execution_count": 24,
   "metadata": {},
   "outputs": [
    {
     "data": {
      "text/plain": [
       "167"
      ]
     },
     "execution_count": 24,
     "metadata": {},
     "output_type": "execute_result"
    }
   ],
   "source": [
    "dd_itemprop_title = [str(i) for i in soup9]\n",
    "dd_itemprop_title = [i.replace('\\n     </span>]', \"\") for i in dd_itemprop_title]\n",
    "\n",
    "dd_itemprop_title = [i.replace('[<span itemprop=\"title\">', \"\") for i in dd_itemprop_title]\n",
    "dd_itemprop_title = [i.replace('</span>, <span itemprop=\"title\">', \", \") for i in dd_itemprop_title]\n",
    "dd_itemprop_title = [i.replace(' \\n       ,', \",\\n\") for i in dd_itemprop_title]\n",
    "dd_itemprop_title = [i.replace('</span>]', \"\") for i in dd_itemprop_title]  \n",
    "dd_itemprop_title = [i.replace(' \\n       ', \"\") for i in dd_itemprop_title]  \n",
    "dd_itemprop_title = [\"null\" if i == \"[]\" else i for i in dd_itemprop_title]\n",
    "len(dd_itemprop_title)"
   ]
  },
  {
   "cell_type": "markdown",
   "metadata": {},
   "source": [
    "#### span_itempop_assigneeSearch"
   ]
  },
  {
   "cell_type": "code",
   "execution_count": 25,
   "metadata": {},
   "outputs": [],
   "source": [
    "soup10 = []\n",
    "for i in range(len(data[\"bs4\"])):\n",
    "    soup10.append(data[\"bs4\"][i].find_all('span', itemprop=\"assigneeSearch\"))"
   ]
  },
  {
   "cell_type": "code",
   "execution_count": 26,
   "metadata": {},
   "outputs": [
    {
     "data": {
      "text/plain": [
       "167"
      ]
     },
     "execution_count": 26,
     "metadata": {},
     "output_type": "execute_result"
    }
   ],
   "source": [
    "span_itempop_assigneeSearch = [str(i) for i in soup10]\n",
    "span_itempop_assigneeSearch = [i.replace('[<span itemprop=\"assigneeSearch\">', \"\") for i in span_itempop_assigneeSearch]\n",
    "span_itempop_assigneeSearch = [i.replace('</span>]', \"\") for i in span_itempop_assigneeSearch]\n",
    "span_itempop_assigneeSearch = [i.replace('</span>, <span itemprop=\"assigneeSearch\">', \", \") for i in span_itempop_assigneeSearch]\n",
    "span_itempop_assigneeSearch = [\"null\" if i == \"[]\" else i for i in span_itempop_assigneeSearch]\n",
    "len(span_itempop_assigneeSearch)"
   ]
  },
  {
   "cell_type": "markdown",
   "metadata": {},
   "source": [
    "#### priorityDate"
   ]
  },
  {
   "cell_type": "code",
   "execution_count": 27,
   "metadata": {},
   "outputs": [],
   "source": [
    "soup11 = []\n",
    "for i in range(len(data[\"bs4\"])):\n",
    "    soup11.append(data[\"bs4\"][i].find_all('span', itemprop=\"priorityDate\"))"
   ]
  },
  {
   "cell_type": "code",
   "execution_count": 28,
   "metadata": {},
   "outputs": [
    {
     "data": {
      "text/plain": [
       "167"
      ]
     },
     "execution_count": 28,
     "metadata": {},
     "output_type": "execute_result"
    }
   ],
   "source": [
    "priorityDate = [str(i) for i in soup11]\n",
    "priorityDate = [\"null\" if i == \"[]\" else i for i in priorityDate]\n",
    "priorityDate = [i.replace('[<span itemprop=\"priorityDate\">', \"\") for i in priorityDate]\n",
    "priorityDate = [i.replace('</span>]', \"\") for i in priorityDate]\n",
    "len(priorityDate)"
   ]
  },
  {
   "cell_type": "markdown",
   "metadata": {},
   "source": [
    "#### filingDate"
   ]
  },
  {
   "cell_type": "code",
   "execution_count": 29,
   "metadata": {},
   "outputs": [],
   "source": [
    "soup12 = []\n",
    "for i in range(len(data[\"bs4\"])):\n",
    "    soup12.append(data[\"bs4\"][i].find_all('span', itemprop=\"filingDate\"))"
   ]
  },
  {
   "cell_type": "code",
   "execution_count": 30,
   "metadata": {},
   "outputs": [
    {
     "data": {
      "text/plain": [
       "167"
      ]
     },
     "execution_count": 30,
     "metadata": {},
     "output_type": "execute_result"
    }
   ],
   "source": [
    "filingDate = [str(i) for i in soup12]\n",
    "filingDate = [\"NaN\" if i == \"[]\" else i for i in filingDate]\n",
    "filingDate = [i.replace('</span>, <span itemprop=\"filingDate\"></span>]', \"NaN\") for i in filingDate]\n",
    "filingDate = [i.replace('[<span itemprop=\"filingDate\">', \"\") for i in filingDate]\n",
    "filingDate = [i[:10] for i in filingDate]\n",
    "filingDate = [i.replace('</span>, <', \"NaN\") for i in filingDate]\n",
    "len(filingDate)"
   ]
  },
  {
   "cell_type": "markdown",
   "metadata": {},
   "source": [
    "#### ifiStatus"
   ]
  },
  {
   "cell_type": "code",
   "execution_count": 31,
   "metadata": {},
   "outputs": [],
   "source": [
    "soup13 = []\n",
    "for i in range(len(data[\"bs4\"])):\n",
    "    soup13.append(data[\"bs4\"][i].find_all('span', itemprop=\"ifiStatus\"))"
   ]
  },
  {
   "cell_type": "code",
   "execution_count": 32,
   "metadata": {},
   "outputs": [
    {
     "data": {
      "text/plain": [
       "167"
      ]
     },
     "execution_count": 32,
     "metadata": {},
     "output_type": "execute_result"
    }
   ],
   "source": [
    "ifiStatus = [str(i) for i in soup13]\n",
    "ifiStatus = [\"null\" if i == \"[]\" else i for i in ifiStatus]\n",
    "ifiStatus = [i.replace('[<span itemprop=\"ifiStatus\">', \"\") for i in ifiStatus]\n",
    "ifiStatus = [\"Expired\" if i.startswith(\"Expired\") == True else i for i in ifiStatus]\n",
    "ifiStatus = [\"Active\" if i.startswith(\"Active\") == True else i for i in ifiStatus]\n",
    "ifiStatus = [\"Pending\" if i.startswith(\"Pending\") == True else i for i in ifiStatus]\n",
    "ifiStatus = [\"Abandoned\" if i.startswith(\"Abandoned\") == True else i for i in ifiStatus]\n",
    "ifiStatus = [\"Ceased\" if i.startswith(\"Ceased\") == True else i for i in ifiStatus]\n",
    "ifiStatus = [\"Withdrawn\" if i.startswith(\"Withdrawn\") == True else i for i in ifiStatus]\n",
    "ifiStatus = [\"Granted\" if i.startswith(\"Granted\") == True else i for i in ifiStatus]\n",
    "ifiStatus = [\"Not-in-force\" if i.startswith(\"Not-in-force\") == True else i for i in ifiStatus]\n",
    "ifiStatus = [\"Revoked\" if i.startswith(\"Revoked\") == True else i for i in ifiStatus]\n",
    "\n",
    "len(ifiStatus)"
   ]
  },
  {
   "cell_type": "markdown",
   "metadata": {},
   "source": [
    "#### dateSubmitted"
   ]
  },
  {
   "cell_type": "code",
   "execution_count": 33,
   "metadata": {},
   "outputs": [],
   "source": [
    "soup15 = []\n",
    "for i in range(len(data[\"bs4\"])):\n",
    "    soup15.append(data[\"bs4\"][i].find_all('meta', scheme=\"dateSubmitted\"))"
   ]
  },
  {
   "cell_type": "code",
   "execution_count": 34,
   "metadata": {},
   "outputs": [
    {
     "data": {
      "text/plain": [
       "167"
      ]
     },
     "execution_count": 34,
     "metadata": {},
     "output_type": "execute_result"
    }
   ],
   "source": [
    "dateSubmitted = [str(i) for i in soup15]\n",
    "dateSubmitted = [\"null\" if i == \"[]\" else i for i in dateSubmitted]\n",
    "dateSubmitted = [i.replace('[<meta content=\"', \"\") for i in dateSubmitted]\n",
    "dateSubmitted = [i.replace('\" name=\"DC.date\" scheme=\"dateSubmitted\"/>]', \"\") for i in dateSubmitted]\n",
    "\n",
    "len(dateSubmitted)"
   ]
  },
  {
   "cell_type": "markdown",
   "metadata": {},
   "source": [
    "#### issue"
   ]
  },
  {
   "cell_type": "code",
   "execution_count": 35,
   "metadata": {},
   "outputs": [],
   "source": [
    "soup16 = []\n",
    "for i in range(len(data[\"bs4\"])):\n",
    "    soup16.append(data[\"bs4\"][i].find_all('meta', scheme=\"issue\"))"
   ]
  },
  {
   "cell_type": "code",
   "execution_count": 36,
   "metadata": {},
   "outputs": [
    {
     "data": {
      "text/plain": [
       "167"
      ]
     },
     "execution_count": 36,
     "metadata": {},
     "output_type": "execute_result"
    }
   ],
   "source": [
    "issueDate = [str(i) for i in soup16]\n",
    "issueDate = [\"NaN\" if i == \"[]\" else i for i in issueDate]\n",
    "issueDate = [i.replace('[<meta content=\"', \"\") for i in issueDate]\n",
    "issueDate = [i.replace('\" name=\"DC.date\" scheme=\"issue\"/>]', \"\") for i in issueDate]\n",
    "\n",
    "len(issueDate)"
   ]
  },
  {
   "cell_type": "markdown",
   "metadata": {},
   "source": [
    "#### claims"
   ]
  },
  {
   "cell_type": "code",
   "execution_count": 37,
   "metadata": {},
   "outputs": [],
   "source": [
    "soup17 = []\n",
    "for i in range(len(data[\"bs4\"])):\n",
    "    soup17.append(data[\"bs4\"][i].find_all('div', class_=\"claim-text\"))"
   ]
  },
  {
   "cell_type": "code",
   "execution_count": 38,
   "metadata": {},
   "outputs": [],
   "source": [
    "claims = [str(i) for i in soup17]\n",
    "claims = [\"null\" if i == \"[]\" else i for i in claims]"
   ]
  },
  {
   "cell_type": "code",
   "execution_count": 39,
   "metadata": {},
   "outputs": [
    {
     "data": {
      "text/plain": [
       "167"
      ]
     },
     "execution_count": 39,
     "metadata": {},
     "output_type": "execute_result"
    }
   ],
   "source": [
    "text_claims = []\n",
    "len_claims = []\n",
    "for i in claims:\n",
    "    n = []\n",
    "    temp = i.split('<div class=\"claim-text\">')\n",
    "    if temp == [\"null\"]:\n",
    "        length = 0\n",
    "        len_claims.append(0)\n",
    "        text_claims.append(\"null\")\n",
    "    else:\n",
    "        temp.pop(0)\n",
    "        length = len(temp)\n",
    "        len_claims.append(length)\n",
    "        text_claims.append(str(temp))\n",
    "len(text_claims)"
   ]
  },
  {
   "cell_type": "markdown",
   "metadata": {},
   "source": [
    "#### publicationDate"
   ]
  },
  {
   "cell_type": "code",
   "execution_count": 40,
   "metadata": {},
   "outputs": [],
   "source": [
    "soup18 = []\n",
    "for i in range(len(data[\"bs4\"])):\n",
    "    soup18.append(data[\"bs4\"][i].find_all('time', itemprop=\"publicationDate\"))\n"
   ]
  },
  {
   "cell_type": "code",
   "execution_count": 41,
   "metadata": {
    "scrolled": true
   },
   "outputs": [
    {
     "data": {
      "text/plain": [
       "167"
      ]
     },
     "execution_count": 41,
     "metadata": {},
     "output_type": "execute_result"
    }
   ],
   "source": [
    "publicationDate = [BeautifulSoup(str(i)).get_text()[1:11] for i in soup18]\n",
    "len(publicationDate)"
   ]
  },
  {
   "cell_type": "markdown",
   "metadata": {},
   "source": [
    "#### citation_reference"
   ]
  },
  {
   "cell_type": "code",
   "execution_count": 42,
   "metadata": {},
   "outputs": [],
   "source": [
    "soup19 = []\n",
    "\n",
    "for i in range(len(data[\"bs4\"])):\n",
    "    soup19.append(data[\"bs4\"][i].find_all('h2'))"
   ]
  },
  {
   "cell_type": "code",
   "execution_count": 43,
   "metadata": {},
   "outputs": [],
   "source": [
    "citation_reference = [str(i).split(', ') for i in soup19]\n",
    "#citation_reference"
   ]
  },
  {
   "cell_type": "markdown",
   "metadata": {},
   "source": [
    "#### priority_applications"
   ]
  },
  {
   "cell_type": "code",
   "execution_count": 44,
   "metadata": {},
   "outputs": [
    {
     "data": {
      "text/plain": [
       "167"
      ]
     },
     "execution_count": 44,
     "metadata": {},
     "output_type": "execute_result"
    }
   ],
   "source": [
    "priority_applications = []\n",
    "for i in citation_reference:\n",
    "    k = 0\n",
    "    for j in i:\n",
    "        if j.startswith('<h2>Priority Applications') == True:\n",
    "            priority_applications.append(j[27:])\n",
    "            k = 1\n",
    "        else:\n",
    "            pass\n",
    "    if k == 0:\n",
    "        priority_applications.append(\"0\")\n",
    "priority_applications = [i.replace(\")</h2>\", \"\") for i in priority_applications]\n",
    "priority_applications = [int(i) for i in priority_applications]\n",
    "len(priority_applications)"
   ]
  },
  {
   "cell_type": "markdown",
   "metadata": {},
   "source": [
    "#### Applications Claiming Priority"
   ]
  },
  {
   "cell_type": "code",
   "execution_count": 45,
   "metadata": {},
   "outputs": [
    {
     "data": {
      "text/plain": [
       "167"
      ]
     },
     "execution_count": 45,
     "metadata": {},
     "output_type": "execute_result"
    }
   ],
   "source": [
    "app_claim_priority = []\n",
    "for i in citation_reference:\n",
    "    k = 0\n",
    "    for j in i:\n",
    "        if j.startswith('<h2>Applications Claiming Priority') == True:\n",
    "            app_claim_priority.append(j[36:])\n",
    "            k = 1\n",
    "        else:\n",
    "            pass\n",
    "    if k == 0:\n",
    "        app_claim_priority.append(\"0\")\n",
    "app_claim_priority = [i.replace(\")</h2>\", \"\") for i in app_claim_priority]\n",
    "app_claim_priority = [int(i) for i in app_claim_priority]\n",
    "len(app_claim_priority)\n"
   ]
  },
  {
   "cell_type": "markdown",
   "metadata": {},
   "source": [
    "#### Related Parent Applications"
   ]
  },
  {
   "cell_type": "code",
   "execution_count": 46,
   "metadata": {},
   "outputs": [
    {
     "data": {
      "text/plain": [
       "167"
      ]
     },
     "execution_count": 46,
     "metadata": {},
     "output_type": "execute_result"
    }
   ],
   "source": [
    "related_parent_app = []\n",
    "for i in citation_reference:\n",
    "    k = 0\n",
    "    for j in i:\n",
    "        if j.startswith('<h2>Related Parent Applications') == True:\n",
    "            related_parent_app.append(j[33:])\n",
    "            k = 1\n",
    "        else:\n",
    "            pass\n",
    "    if k == 0:\n",
    "        related_parent_app.append(\"0\")\n",
    "related_parent_app = [i.replace(\")</h2>\", \"\") for i in related_parent_app]\n",
    "related_parent_app = [int(i) for i in related_parent_app]\n",
    "len(related_parent_app)"
   ]
  },
  {
   "cell_type": "markdown",
   "metadata": {},
   "source": [
    "#### Related Child Applications"
   ]
  },
  {
   "cell_type": "code",
   "execution_count": 47,
   "metadata": {},
   "outputs": [
    {
     "data": {
      "text/plain": [
       "167"
      ]
     },
     "execution_count": 47,
     "metadata": {},
     "output_type": "execute_result"
    }
   ],
   "source": [
    "related_child_app = []\n",
    "for i in citation_reference:\n",
    "    k = 0\n",
    "    for j in i:\n",
    "        if j.startswith('<h2>Related Child Applications') == True:\n",
    "            related_child_app.append(j[32:])\n",
    "            k = 1\n",
    "        else:\n",
    "            pass\n",
    "    if k == 0:\n",
    "        related_child_app.append(\"0\")\n",
    "related_child_app = [i.replace(\")</h2>\", \"\") for i in related_child_app]\n",
    "related_child_app = [int(i) for i in related_child_app]\n",
    "len(related_child_app)"
   ]
  },
  {
   "cell_type": "markdown",
   "metadata": {},
   "source": [
    "#### Publications "
   ]
  },
  {
   "cell_type": "code",
   "execution_count": 48,
   "metadata": {},
   "outputs": [
    {
     "data": {
      "text/plain": [
       "167"
      ]
     },
     "execution_count": 48,
     "metadata": {},
     "output_type": "execute_result"
    }
   ],
   "source": [
    "publications = []\n",
    "for i in citation_reference:\n",
    "    k = 0\n",
    "    for j in i:\n",
    "        if j.startswith('<h2>Publications') == True:\n",
    "            publications.append(j[18:])\n",
    "            k = 1\n",
    "        else:\n",
    "            pass\n",
    "    if k == 0:\n",
    "        publications.append(\"0\")\n",
    "publications = [i.replace(\")</h2>\", \"\") for i in publications]\n",
    "publications = [int(i) for i in publications]\n",
    "len(publications)"
   ]
  },
  {
   "cell_type": "markdown",
   "metadata": {},
   "source": [
    "#### Country Status"
   ]
  },
  {
   "cell_type": "code",
   "execution_count": 49,
   "metadata": {},
   "outputs": [
    {
     "data": {
      "text/plain": [
       "167"
      ]
     },
     "execution_count": 49,
     "metadata": {},
     "output_type": "execute_result"
    }
   ],
   "source": [
    "country_status = []\n",
    "for i in citation_reference:\n",
    "    k = 0\n",
    "    for j in i:\n",
    "        if j.startswith('<h2>Country Status') == True:\n",
    "            country_status.append(j[20:])\n",
    "            k = 1\n",
    "        else:\n",
    "            pass\n",
    "    if k == 0:\n",
    "        country_status.append(\"0\")\n",
    "country_status = [i.replace(\")</h2>\", \"\") for i in country_status]\n",
    "country_status = [int(i) for i in country_status]\n",
    "len(country_status)"
   ]
  },
  {
   "cell_type": "markdown",
   "metadata": {},
   "source": [
    "#### Citations "
   ]
  },
  {
   "cell_type": "code",
   "execution_count": 50,
   "metadata": {},
   "outputs": [
    {
     "data": {
      "text/plain": [
       "167"
      ]
     },
     "execution_count": 50,
     "metadata": {},
     "output_type": "execute_result"
    }
   ],
   "source": [
    "citations = []\n",
    "for i in citation_reference:\n",
    "    k = 0\n",
    "    for j in i:\n",
    "        if j.startswith('<h2>Citations') == True:\n",
    "            citations.append(j[15:])\n",
    "            k = 1\n",
    "        else:\n",
    "            pass\n",
    "    if k == 0:\n",
    "        citations.append(\"0\")\n",
    "citations = [i.replace(\")</h2>\", \"\") for i in citations]\n",
    "citations = [int(i) for i in citations]\n",
    "len(citations)"
   ]
  },
  {
   "cell_type": "markdown",
   "metadata": {},
   "source": [
    "#### Patent Citations"
   ]
  },
  {
   "cell_type": "code",
   "execution_count": 51,
   "metadata": {},
   "outputs": [
    {
     "data": {
      "text/plain": [
       "167"
      ]
     },
     "execution_count": 51,
     "metadata": {},
     "output_type": "execute_result"
    }
   ],
   "source": [
    "patent_citations = []\n",
    "for i in citation_reference:\n",
    "    k = 0\n",
    "    for j in i:\n",
    "        if j.startswith('<h2>Patent Citations') == True:\n",
    "            patent_citations.append(j[22:])\n",
    "            k = 1\n",
    "        else:\n",
    "            pass\n",
    "    if k == 0:\n",
    "        patent_citations.append(\"0\")\n",
    "patent_citations = [i.replace(\")</h2>\", \"\") for i in patent_citations]\n",
    "patent_citations = [int(i) for i in patent_citations]\n",
    "len(patent_citations)"
   ]
  },
  {
   "cell_type": "markdown",
   "metadata": {},
   "source": [
    "#### Non-Patent Citations"
   ]
  },
  {
   "cell_type": "code",
   "execution_count": 52,
   "metadata": {},
   "outputs": [
    {
     "data": {
      "text/plain": [
       "167"
      ]
     },
     "execution_count": 52,
     "metadata": {},
     "output_type": "execute_result"
    }
   ],
   "source": [
    "non_pat_citations = []\n",
    "for i in citation_reference:\n",
    "    k = 0\n",
    "    for j in i:\n",
    "        if j.startswith('<h2>Non-Patent Citations') == True:\n",
    "            non_pat_citations.append(j[26:])\n",
    "            k = 1\n",
    "        else:\n",
    "            pass\n",
    "    if k == 0:\n",
    "        non_pat_citations.append(\"0\")\n",
    "non_pat_citations = [i.replace(\")</h2>\", \"\") for i in non_pat_citations]\n",
    "non_pat_citations = [int(i) for i in non_pat_citations]\n",
    "len(non_pat_citations)"
   ]
  },
  {
   "cell_type": "markdown",
   "metadata": {},
   "source": [
    "## Create a DB"
   ]
  },
  {
   "cell_type": "code",
   "execution_count": 53,
   "metadata": {},
   "outputs": [],
   "source": [
    "db = pd.DataFrame()\n",
    "db[\"inventor_name\"] = soup_inventor"
   ]
  },
  {
   "cell_type": "code",
   "execution_count": 97,
   "metadata": {},
   "outputs": [],
   "source": [
    "db[\"inventor_name\"] = soup_inventor\n",
    "db[\"submitter_name\"] = assignee_name_orig\n",
    "db[\"patent\"] = data[\"patent\"]\n",
    "db[\"url\"] = data[\"url\"]\n",
    "db[\"title\"] = title\n",
    "db[\"abstract_text\"] = abstract_text\n",
    "db[\"meta_content_schema_assignee\"] = meta_content_schema_assignee\n",
    "db[\"dd_itemprop_assigneeCurrent\"] = dd_itemprop_assigneeCurrent\n",
    "db[\"dd_itemprop_assigneeOriginal\"] = dd_itemprop_assigneeOriginal\n",
    "db[\"dd_itemprop_title\"] = dd_itemprop_title\n",
    "db[\"span_itempop_assigneeSearch\"] = span_itempop_assigneeSearch\n",
    "db[\"publicationDate\"] = publicationDate\n",
    "db[\"priorityDate\"] = priorityDate\n",
    "db[\"filingDate\"] = filingDate\n",
    "db[\"dateSubmitted\"] = dateSubmitted\n",
    "#db[\"issueDate\"] = issueDate #was not considered as relevant data\n",
    "db[\"ifiStatus\"] = ifiStatus\n",
    "db[\"text_claims\"] = text_claims\n",
    "db[\"len_claims\"] = len_claims\n",
    "db[\"priority_applications\"] = priority_applications\n",
    "db[\"app_claim_priority\"] = app_claim_priority\n",
    "db[\"related_parent_app\"] = related_parent_app\n",
    "db[\"related_child_app\"] = related_child_app\n",
    "db[\"publications\"] = publications\n",
    "db[\"country_status\"] = country_status\n",
    "db[\"citations\"] = citations\n",
    "db[\"patent_citations\"] = patent_citations\n",
    "db[\"non_pat_citations\"] = non_pat_citations\n",
    "db[\"patent_success\"] = data[\"patent_success\"]"
   ]
  },
  {
   "cell_type": "code",
   "execution_count": 55,
   "metadata": {},
   "outputs": [],
   "source": [
    "#db.drop(columns = [\"meta_content\"], inplace = True)"
   ]
  },
  {
   "cell_type": "code",
   "execution_count": 98,
   "metadata": {},
   "outputs": [
    {
     "data": {
      "text/plain": [
       "(167, 29)"
      ]
     },
     "execution_count": 98,
     "metadata": {},
     "output_type": "execute_result"
    }
   ],
   "source": [
    "db.shape"
   ]
  },
  {
   "cell_type": "code",
   "execution_count": 99,
   "metadata": {},
   "outputs": [
    {
     "data": {
      "text/html": [
       "<div>\n",
       "<style scoped>\n",
       "    .dataframe tbody tr th:only-of-type {\n",
       "        vertical-align: middle;\n",
       "    }\n",
       "\n",
       "    .dataframe tbody tr th {\n",
       "        vertical-align: top;\n",
       "    }\n",
       "\n",
       "    .dataframe thead th {\n",
       "        text-align: right;\n",
       "    }\n",
       "</style>\n",
       "<table border=\"1\" class=\"dataframe\">\n",
       "  <thead>\n",
       "    <tr style=\"text-align: right;\">\n",
       "      <th></th>\n",
       "      <th>inventor_name</th>\n",
       "      <th>submitter_name</th>\n",
       "      <th>patent</th>\n",
       "      <th>url</th>\n",
       "      <th>title</th>\n",
       "      <th>abstract_text</th>\n",
       "      <th>meta_content_schema_assignee</th>\n",
       "      <th>dd_itemprop_assigneeCurrent</th>\n",
       "      <th>dd_itemprop_assigneeOriginal</th>\n",
       "      <th>dd_itemprop_title</th>\n",
       "      <th>...</th>\n",
       "      <th>app_claim_priority</th>\n",
       "      <th>related_parent_app</th>\n",
       "      <th>related_child_app</th>\n",
       "      <th>publications</th>\n",
       "      <th>country_status</th>\n",
       "      <th>citations</th>\n",
       "      <th>patent_citations</th>\n",
       "      <th>non_pat_citations</th>\n",
       "      <th>meta_data</th>\n",
       "      <th>patent_success</th>\n",
       "    </tr>\n",
       "  </thead>\n",
       "  <tbody>\n",
       "    <tr>\n",
       "      <th>0</th>\n",
       "      <td>Jules Jacob, Norman COYLE, Thomas G. West, Donald C. Monkhouse, Henry L. Surprenant, Nemichand B...</td>\n",
       "      <td>Aprecia Pharmaceuticals Company</td>\n",
       "      <td>WO2014144512A1</td>\n",
       "      <td>https://patents.google.com/patent/WO2014144512A1</td>\n",
       "      <td>Rapid disperse dosage form containing levetirace</td>\n",
       "      <td>A high dose rapidly dispersing three-dimensionally printed dosage form comprising a high dose of...</td>\n",
       "      <td>Aprecia Pharmaceuticals Company</td>\n",
       "      <td>null</td>\n",
       "      <td>Aprecia Pharmaceuticals Company</td>\n",
       "      <td>Rapid disperse dosage form containing levetiracetam,\\n Priority to US201361791444P, Priority to ...</td>\n",
       "      <td>...</td>\n",
       "      <td>15</td>\n",
       "      <td>0</td>\n",
       "      <td>1</td>\n",
       "      <td>2</td>\n",
       "      <td>9</td>\n",
       "      <td>34</td>\n",
       "      <td>47</td>\n",
       "      <td>5</td>\n",
       "      <td>International application published with international search report</td>\n",
       "      <td>0</td>\n",
       "    </tr>\n",
       "    <tr>\n",
       "      <th>1</th>\n",
       "      <td>Namdev M. Kashid, Sunny Chopra, Sumit Madan, Vinod Arora</td>\n",
       "      <td>Ranbaxy Laboratories Limited</td>\n",
       "      <td>WO2009069089A9</td>\n",
       "      <td>https://patents.google.com/patent/WO2009069089A9</td>\n",
       "      <td>Levetiracetam controlled release compos</td>\n",
       "      <td>The present invention is concerned with controlled release compositions for oral administration ...</td>\n",
       "      <td>Ranbaxy Laboratories Limited</td>\n",
       "      <td>null</td>\n",
       "      <td>Ranbaxy Laboratories Limited</td>\n",
       "      <td>Levetiracetam controlled release composition \\n     , Priority to IN2495/DEL/2007, Priority to I...</td>\n",
       "      <td>...</td>\n",
       "      <td>1</td>\n",
       "      <td>0</td>\n",
       "      <td>0</td>\n",
       "      <td>2</td>\n",
       "      <td>2</td>\n",
       "      <td>0</td>\n",
       "      <td>0</td>\n",
       "      <td>0</td>\n",
       "      <td>International application or ISR republished with corrections, alterations or supplements</td>\n",
       "      <td>?</td>\n",
       "    </tr>\n",
       "  </tbody>\n",
       "</table>\n",
       "<p>2 rows × 29 columns</p>\n",
       "</div>"
      ],
      "text/plain": [
       "                                                                                         inventor_name  \\\n",
       "0  Jules Jacob, Norman COYLE, Thomas G. West, Donald C. Monkhouse, Henry L. Surprenant, Nemichand B...   \n",
       "1                                             Namdev M. Kashid, Sunny Chopra, Sumit Madan, Vinod Arora   \n",
       "\n",
       "                    submitter_name          patent  \\\n",
       "0  Aprecia Pharmaceuticals Company  WO2014144512A1   \n",
       "1     Ranbaxy Laboratories Limited  WO2009069089A9   \n",
       "\n",
       "                                                url  \\\n",
       "0  https://patents.google.com/patent/WO2014144512A1   \n",
       "1  https://patents.google.com/patent/WO2009069089A9   \n",
       "\n",
       "                                              title  \\\n",
       "0  Rapid disperse dosage form containing levetirace   \n",
       "1           Levetiracetam controlled release compos   \n",
       "\n",
       "                                                                                         abstract_text  \\\n",
       "0  A high dose rapidly dispersing three-dimensionally printed dosage form comprising a high dose of...   \n",
       "1  The present invention is concerned with controlled release compositions for oral administration ...   \n",
       "\n",
       "      meta_content_schema_assignee dd_itemprop_assigneeCurrent  \\\n",
       "0  Aprecia Pharmaceuticals Company                        null   \n",
       "1     Ranbaxy Laboratories Limited                        null   \n",
       "\n",
       "      dd_itemprop_assigneeOriginal  \\\n",
       "0  Aprecia Pharmaceuticals Company   \n",
       "1     Ranbaxy Laboratories Limited   \n",
       "\n",
       "                                                                                     dd_itemprop_title  \\\n",
       "0  Rapid disperse dosage form containing levetiracetam,\\n Priority to US201361791444P, Priority to ...   \n",
       "1  Levetiracetam controlled release composition \\n     , Priority to IN2495/DEL/2007, Priority to I...   \n",
       "\n",
       "   ... app_claim_priority related_parent_app related_child_app publications  \\\n",
       "0  ...                 15                  0                 1            2   \n",
       "1  ...                  1                  0                 0            2   \n",
       "\n",
       "  country_status citations patent_citations  non_pat_citations  \\\n",
       "0              9        34               47                  5   \n",
       "1              2         0                0                  0   \n",
       "\n",
       "                                                                                   meta_data  \\\n",
       "0                       International application published with international search report   \n",
       "1  International application or ISR republished with corrections, alterations or supplements   \n",
       "\n",
       "   patent_success  \n",
       "0               0  \n",
       "1               ?  \n",
       "\n",
       "[2 rows x 29 columns]"
      ]
     },
     "execution_count": 99,
     "metadata": {},
     "output_type": "execute_result"
    }
   ],
   "source": [
    "pd.set_option(\"display.max_colwidth\", 100)\n",
    "db[:2]"
   ]
  },
  {
   "cell_type": "code",
   "execution_count": 105,
   "metadata": {},
   "outputs": [],
   "source": [
    "db[\"publicationDate\"] = pd.to_datetime(db[\"publicationDate\"])\n",
    "db[\"priorityDate\"] = pd.to_datetime(db[\"priorityDate\"])\n",
    "db[\"filingDate\"] = pd.to_datetime(db[\"filingDate\"], errors=\"ignore\")\n",
    "db[\"dateSubmitted\"] = pd.to_datetime(db[\"dateSubmitted\"])\n",
    "#db[\"issueDate\"] = pd.to_datetime(db[\"issueDate\"], errors=\"ignore\")"
   ]
  },
  {
   "cell_type": "code",
   "execution_count": 106,
   "metadata": {
    "scrolled": false
   },
   "outputs": [
    {
     "data": {
      "text/plain": [
       "inventor_name                           object\n",
       "submitter_name                          object\n",
       "patent                                  object\n",
       "url                                     object\n",
       "title                                   object\n",
       "abstract_text                           object\n",
       "meta_content_schema_assignee            object\n",
       "dd_itemprop_assigneeCurrent             object\n",
       "dd_itemprop_assigneeOriginal            object\n",
       "dd_itemprop_title                       object\n",
       "span_itempop_assigneeSearch             object\n",
       "publicationDate                 datetime64[ns]\n",
       "priorityDate                    datetime64[ns]\n",
       "filingDate                      datetime64[ns]\n",
       "dateSubmitted                   datetime64[ns]\n",
       "ifiStatus                               object\n",
       "text_claims                             object\n",
       "len_claims                               int64\n",
       "priority_applications                    int64\n",
       "app_claim_priority                       int64\n",
       "related_parent_app                       int64\n",
       "related_child_app                        int64\n",
       "publications                             int64\n",
       "country_status                           int64\n",
       "citations                                int64\n",
       "patent_citations                         int64\n",
       "non_pat_citations                        int64\n",
       "meta_data                               object\n",
       "patent_success                          object\n",
       "dtype: object"
      ]
     },
     "execution_count": 106,
     "metadata": {},
     "output_type": "execute_result"
    }
   ],
   "source": [
    "db.dtypes"
   ]
  },
  {
   "cell_type": "markdown",
   "metadata": {},
   "source": [
    "#### Creating Publication Description (meta data)"
   ]
  },
  {
   "cell_type": "code",
   "execution_count": 60,
   "metadata": {},
   "outputs": [
    {
     "data": {
      "text/plain": [
       "167"
      ]
     },
     "execution_count": 60,
     "metadata": {},
     "output_type": "execute_result"
    }
   ],
   "source": [
    "meta_content = [BeautifulSoup(str(i)).find_all('meta', itemprop=\"publicationDescription\") for i in data[\"bs4\"]]\n",
    "meta_content = [str(i) for i in meta_content]\n",
    "meta_content = [i.replace('[<meta content=\"', '') for i in meta_content]\n",
    "meta_content = [i.replace('\" itemprop=\"publicationDescription\"/>]', '') for i in meta_content]\n",
    "len(meta_content)"
   ]
  },
  {
   "cell_type": "code",
   "execution_count": 61,
   "metadata": {},
   "outputs": [],
   "source": [
    "db[\"meta_data\"] = meta_content"
   ]
  },
  {
   "cell_type": "code",
   "execution_count": 62,
   "metadata": {
    "scrolled": true
   },
   "outputs": [
    {
     "data": {
      "text/html": [
       "<div>\n",
       "<style scoped>\n",
       "    .dataframe tbody tr th:only-of-type {\n",
       "        vertical-align: middle;\n",
       "    }\n",
       "\n",
       "    .dataframe tbody tr th {\n",
       "        vertical-align: top;\n",
       "    }\n",
       "\n",
       "    .dataframe thead th {\n",
       "        text-align: right;\n",
       "    }\n",
       "</style>\n",
       "<table border=\"1\" class=\"dataframe\">\n",
       "  <thead>\n",
       "    <tr style=\"text-align: right;\">\n",
       "      <th></th>\n",
       "      <th>unique_values</th>\n",
       "      <th>counts</th>\n",
       "    </tr>\n",
       "  </thead>\n",
       "  <tbody>\n",
       "    <tr>\n",
       "      <th>0</th>\n",
       "      <td>Publication of application with search report</td>\n",
       "      <td>25</td>\n",
       "    </tr>\n",
       "    <tr>\n",
       "      <th>1</th>\n",
       "      <td>International application published with international search report</td>\n",
       "      <td>24</td>\n",
       "    </tr>\n",
       "    <tr>\n",
       "      <th>2</th>\n",
       "      <td>Patent ( having previously published pre-grant publication)</td>\n",
       "      <td>21</td>\n",
       "    </tr>\n",
       "    <tr>\n",
       "      <th>3</th>\n",
       "      <td>Granted patent</td>\n",
       "      <td>14</td>\n",
       "    </tr>\n",
       "    <tr>\n",
       "      <th>4</th>\n",
       "      <td>Later publication of ISR with revised front page</td>\n",
       "      <td>14</td>\n",
       "    </tr>\n",
       "    <tr>\n",
       "      <th>5</th>\n",
       "      <td>Laid-open patent application</td>\n",
       "      <td>13</td>\n",
       "    </tr>\n",
       "    <tr>\n",
       "      <th>6</th>\n",
       "      <td>Publication of application without search report</td>\n",
       "      <td>12</td>\n",
       "    </tr>\n",
       "    <tr>\n",
       "      <th>7</th>\n",
       "      <td>Open to public inspection</td>\n",
       "      <td>11</td>\n",
       "    </tr>\n",
       "    <tr>\n",
       "      <th>8</th>\n",
       "      <td>International application published without international search report</td>\n",
       "      <td>9</td>\n",
       "    </tr>\n",
       "    <tr>\n",
       "      <th>9</th>\n",
       "      <td>Patent</td>\n",
       "      <td>6</td>\n",
       "    </tr>\n",
       "  </tbody>\n",
       "</table>\n",
       "</div>"
      ],
      "text/plain": [
       "                                                             unique_values  \\\n",
       "0                            Publication of application with search report   \n",
       "1     International application published with international search report   \n",
       "2              Patent ( having previously published pre-grant publication)   \n",
       "3                                                           Granted patent   \n",
       "4                         Later publication of ISR with revised front page   \n",
       "5                                             Laid-open patent application   \n",
       "6                         Publication of application without search report   \n",
       "7                                                Open to public inspection   \n",
       "8  International application published without international search report   \n",
       "9                                                                   Patent   \n",
       "\n",
       "   counts  \n",
       "0      25  \n",
       "1      24  \n",
       "2      21  \n",
       "3      14  \n",
       "4      14  \n",
       "5      13  \n",
       "6      12  \n",
       "7      11  \n",
       "8       9  \n",
       "9       6  "
      ]
     },
     "execution_count": 62,
     "metadata": {},
     "output_type": "execute_result"
    }
   ],
   "source": [
    "value_counts = db[\"meta_data\"].value_counts().rename_axis('unique_values').to_frame('counts').reset_index()\n",
    "value_counts.head(10)"
   ]
  },
  {
   "cell_type": "code",
   "execution_count": 63,
   "metadata": {},
   "outputs": [
    {
     "data": {
      "text/plain": [
       "(167, 28)"
      ]
     },
     "execution_count": 63,
     "metadata": {},
     "output_type": "execute_result"
    }
   ],
   "source": [
    "db.shape"
   ]
  },
  {
   "cell_type": "markdown",
   "metadata": {},
   "source": [
    "### <div style=\"color:green\">Here was written the code for Elimination of unuseful Patents with special meta_data. But according to the future analysis was made a decision not to do that</div><div style=\"color:blue\">Go to Condition or to SAVE DATA</div>"
   ]
  },
  {
   "cell_type": "markdown",
   "metadata": {},
   "source": [
    "### Collection of Patents that contains next meta data (to eliminate):"
   ]
  },
  {
   "cell_type": "markdown",
   "metadata": {},
   "source": [
    "#### Utility model, Registered utility model, Granted utility model, Granted patent / Utility model, Utility model specification, Utility model application, Utility model ( second publication)"
   ]
  },
  {
   "cell_type": "code",
   "execution_count": 64,
   "metadata": {},
   "outputs": [],
   "source": [
    "#sample = pd.DataFrame()"
   ]
  },
  {
   "cell_type": "code",
   "execution_count": 65,
   "metadata": {},
   "outputs": [],
   "source": [
    "#sample1 = db.loc[db[\"meta_data\"] == \"Utility model\"]\n",
    "#sample2 = db.loc[db[\"meta_data\"] == \"Registered utility model\"]\n",
    "#sample3 = db.loc[db[\"meta_data\"] == \"Granted utility model\"]\n",
    "#sample4 = db.loc[db[\"meta_data\"] == \"Granted patent / Utility model\"]\n",
    "#sample5 = db.loc[db[\"meta_data\"] == \"Utility model specification\"]\n",
    "#sample6 = db.loc[db[\"meta_data\"] == \"Utility model application\"]\n",
    "#sample7 = db.loc[db[\"meta_data\"] == \"Utility model ( second publication)\"]\n",
    "#sample = sample.append(sample1)\n",
    "#sample = sample.append(sample2)\n",
    "#sample = sample.append(sample3)\n",
    "#sample = sample.append(sample4)\n",
    "#sample = sample.append(sample5)\n",
    "#sample = sample.append(sample6)\n",
    "#sample = sample.append(sample7)"
   ]
  },
  {
   "cell_type": "code",
   "execution_count": 66,
   "metadata": {},
   "outputs": [],
   "source": [
    "#sample_pat = sample[\"patent\"]\n",
    "#sample_pat.shape"
   ]
  },
  {
   "cell_type": "markdown",
   "metadata": {},
   "source": [
    "#### Removing sample data from main DB"
   ]
  },
  {
   "cell_type": "code",
   "execution_count": 86,
   "metadata": {},
   "outputs": [],
   "source": [
    "#result = db[~db[\"patent\"].isin(sample_pat)]"
   ]
  },
  {
   "cell_type": "code",
   "execution_count": 87,
   "metadata": {},
   "outputs": [],
   "source": [
    "#result.shape"
   ]
  },
  {
   "cell_type": "code",
   "execution_count": 88,
   "metadata": {},
   "outputs": [],
   "source": [
    "#result.isna().sum()\n",
    "#result"
   ]
  },
  {
   "cell_type": "markdown",
   "metadata": {},
   "source": [
    "### Create a Condition to collect patents older then 1980 year of publication"
   ]
  },
  {
   "cell_type": "code",
   "execution_count": 107,
   "metadata": {},
   "outputs": [],
   "source": [
    "condition = db[\"publicationDate\"] > \"1980\""
   ]
  },
  {
   "cell_type": "code",
   "execution_count": 108,
   "metadata": {},
   "outputs": [
    {
     "data": {
      "text/plain": [
       "(167,)"
      ]
     },
     "execution_count": 108,
     "metadata": {},
     "output_type": "execute_result"
    }
   ],
   "source": [
    "condition.shape"
   ]
  },
  {
   "cell_type": "code",
   "execution_count": 109,
   "metadata": {},
   "outputs": [
    {
     "data": {
      "text/html": [
       "<div>\n",
       "<style scoped>\n",
       "    .dataframe tbody tr th:only-of-type {\n",
       "        vertical-align: middle;\n",
       "    }\n",
       "\n",
       "    .dataframe tbody tr th {\n",
       "        vertical-align: top;\n",
       "    }\n",
       "\n",
       "    .dataframe thead th {\n",
       "        text-align: right;\n",
       "    }\n",
       "</style>\n",
       "<table border=\"1\" class=\"dataframe\">\n",
       "  <thead>\n",
       "    <tr style=\"text-align: right;\">\n",
       "      <th></th>\n",
       "      <th>inventor_name</th>\n",
       "      <th>submitter_name</th>\n",
       "      <th>patent</th>\n",
       "      <th>url</th>\n",
       "      <th>title</th>\n",
       "      <th>abstract_text</th>\n",
       "      <th>meta_content_schema_assignee</th>\n",
       "      <th>dd_itemprop_assigneeCurrent</th>\n",
       "      <th>dd_itemprop_assigneeOriginal</th>\n",
       "      <th>dd_itemprop_title</th>\n",
       "      <th>...</th>\n",
       "      <th>app_claim_priority</th>\n",
       "      <th>related_parent_app</th>\n",
       "      <th>related_child_app</th>\n",
       "      <th>publications</th>\n",
       "      <th>country_status</th>\n",
       "      <th>citations</th>\n",
       "      <th>patent_citations</th>\n",
       "      <th>non_pat_citations</th>\n",
       "      <th>meta_data</th>\n",
       "      <th>patent_success</th>\n",
       "    </tr>\n",
       "  </thead>\n",
       "  <tbody>\n",
       "  </tbody>\n",
       "</table>\n",
       "<p>0 rows × 29 columns</p>\n",
       "</div>"
      ],
      "text/plain": [
       "Empty DataFrame\n",
       "Columns: [inventor_name, submitter_name, patent, url, title, abstract_text, meta_content_schema_assignee, dd_itemprop_assigneeCurrent, dd_itemprop_assigneeOriginal, dd_itemprop_title, span_itempop_assigneeSearch, publicationDate, priorityDate, filingDate, dateSubmitted, ifiStatus, text_claims, len_claims, priority_applications, app_claim_priority, related_parent_app, related_child_app, publications, country_status, citations, patent_citations, non_pat_citations, meta_data, patent_success]\n",
       "Index: []\n",
       "\n",
       "[0 rows x 29 columns]"
      ]
     },
     "execution_count": 109,
     "metadata": {},
     "output_type": "execute_result"
    }
   ],
   "source": [
    "db[~condition]"
   ]
  },
  {
   "cell_type": "code",
   "execution_count": 110,
   "metadata": {},
   "outputs": [],
   "source": [
    "final_result = db[condition]"
   ]
  },
  {
   "cell_type": "code",
   "execution_count": 111,
   "metadata": {},
   "outputs": [
    {
     "data": {
      "text/plain": [
       "(167, 29)"
      ]
     },
     "execution_count": 111,
     "metadata": {},
     "output_type": "execute_result"
    }
   ],
   "source": [
    "final_result.shape"
   ]
  },
  {
   "cell_type": "markdown",
   "metadata": {},
   "source": [
    "## <div style=\"color:blue\">Save data </div>"
   ]
  },
  {
   "cell_type": "code",
   "execution_count": 112,
   "metadata": {},
   "outputs": [],
   "source": [
    "final_result.to_excel(\"parsed_data_lev_v3.xlsx\")"
   ]
  }
 ],
 "metadata": {
  "kernelspec": {
   "display_name": "Python 3",
   "language": "python",
   "name": "python3"
  },
  "language_info": {
   "codemirror_mode": {
    "name": "ipython",
    "version": 3
   },
   "file_extension": ".py",
   "mimetype": "text/x-python",
   "name": "python",
   "nbconvert_exporter": "python",
   "pygments_lexer": "ipython3",
   "version": "3.8.3"
  }
 },
 "nbformat": 4,
 "nbformat_minor": 4
}
